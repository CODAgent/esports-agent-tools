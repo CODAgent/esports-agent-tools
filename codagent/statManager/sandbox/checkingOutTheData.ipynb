{
 "cells": [
  {
   "cell_type": "code",
   "execution_count": 1,
   "metadata": {},
   "outputs": [],
   "source": [
    "# imports \n",
    "import os\n",
    "import numpy as np\n",
    "import pandas as pd"
   ]
  },
  {
   "cell_type": "code",
   "execution_count": 6,
   "metadata": {},
   "outputs": [],
   "source": [
    "logDir = 'logFiles'\n",
    "logFile = 'dataLog_06-03-2024.csv'\n",
    "logPath = os.path.join('../', logDir, logFile)"
   ]
  },
  {
   "cell_type": "code",
   "execution_count": 9,
   "metadata": {},
   "outputs": [
    {
     "name": "stdout",
     "output_type": "stream",
     "text": [
      "Date,Player,Game Mode,Map,Kills,Deaths,Damage,Hill Time/First Bloods/Ticks\n",
      "\n"
     ]
    }
   ],
   "source": [
    "# read in the csv\n",
    "lines = []\n",
    "with open(logPath, 'r') as fr:\n",
    "    lines = fr.readlines()\n",
    "\n",
    "header = lines[0]\n",
    "print(header)\n",
    "# [0] date, [1] player, [2] game mode, [3] map, [4] kills, [5] deaths, [6] damage, [7] objMainStat\n",
    "\n",
    "linesOfInterest = lines[1:len(lines)]"
   ]
  },
  {
   "cell_type": "code",
   "execution_count": 11,
   "metadata": {},
   "outputs": [
    {
     "name": "stdout",
     "output_type": "stream",
     "text": [
      "{'date': ['03/15/2024', '03/15/2024', '03/15/2024', '03/15/2024', '03/15/2024', '03/15/2024', '03/15/2024', '03/15/2024', '03/15/2024', '03/15/2024', '03/15/2024', '03/15/2024', '03/15/2024', '03/15/2024', '03/15/2024', '03/15/2024', '03/15/2024', '03/15/2024', '03/15/2024', '03/15/2024', '03/15/2024', '03/15/2024', '03/15/2024', '03/15/2024', '03/15/2024', '03/15/2024', '03/15/2024', '03/15/2024', '03/15/2024', '03/15/2024', '03/15/2024', '03/15/2024', '03/15/2024', '03/15/2024', '03/15/2024', '03/15/2024', '03/15/2024', '03/15/2024', '03/15/2024', '03/15/2024', '03/15/2024', '03/15/2024', '03/15/2024', '03/15/2024', '03/15/2024', '03/15/2024', '03/15/2024', '03/15/2024', '03/15/2024', '03/15/2024', '03/15/2024', '03/15/2024', '03/15/2024', '03/15/2024', '03/15/2024', '03/15/2024', '03/15/2024', '03/15/2024', '03/15/2024', '03/15/2024', '03/15/2024', '03/15/2024', '03/15/2024', '03/15/2024'], 'player': ['Abuzah', 'Arcitys', 'Breszy', 'Huke', 'Attach', 'Gio', 'Nero', 'Purj', 'Abuzah', 'Arcitys', 'Breszy', 'Huke', 'Attach', 'Gio', 'Nero', 'Purj', 'Abuzah', 'Arcitys', 'Breszy', 'Huke', 'Attach', 'Gio', 'Nero', 'Purj', 'Abuzah', 'Arcitys', 'Breszy', 'Huke', 'Attach', 'Gio', 'Nero', 'Purj', 'Assault', 'Diamondcon', 'Estreal', 'Fame', 'Afro', 'Ghosty', 'Kremp', 'Nastie', 'Assault', 'Diamondcon', 'Estreal', 'Fame', 'Afro', 'Ghosty', 'Kremp', 'Nastie', 'Assault', 'Diamondcon', 'Estreal', 'Fame', 'Afro', 'Ghosty', 'Kremp', 'Nastie', 'Assault', 'Diamondcon', 'Estreal', 'Fame', 'Afro', 'Ghosty', 'Kremp', 'Nastie'], 'gameMode': ['Hardpoint', 'Hardpoint', 'Hardpoint', 'Hardpoint', 'Hardpoint', 'Hardpoint', 'Hardpoint', 'Hardpoint', 'SND', 'SND', 'SND', 'SND', 'SND', 'SND', 'SND', 'SND', 'Control', 'Control', 'Control', 'Control', 'Control', 'Control', 'Control', 'Control', 'Hardpoint', 'Hardpoint', 'Hardpoint', 'Hardpoint', 'Hardpoint', 'Hardpoint', 'Hardpoint', 'Hardpoint', 'Hardpoint', 'Hardpoint', 'Hardpoint', 'Hardpoint', 'Hardpoint', 'Hardpoint', 'Hardpoint', 'Hardpoint', 'SND', 'SND', 'SND', 'SND', 'SND', 'SND', 'SND', 'SND', 'Control', 'Control', 'Control', 'Control', 'Control', 'Control', 'Control', 'Control', 'Hardpoint', 'Hardpoint', 'Hardpoint', 'Hardpoint', 'Hardpoint', 'Hardpoint', 'Hardpoint', 'Hardpoint'], 'map': ['Karachi', 'Karachi', 'Karachi', 'Karachi', 'Karachi', 'Karachi', 'Karachi', 'Karachi', 'Invasion', 'Invasion', 'Invasion', 'Invasion', 'Invasion', 'Invasion', 'Invasion', 'Invasion', 'Invasion', 'Invasion', 'Invasion', 'Invasion', 'Invasion', 'Invasion', 'Invasion', 'Invasion', 'Rio', 'Rio', 'Rio', 'Rio', 'Rio', 'Rio', 'Rio', 'Rio', 'Invasion', 'Invasion', 'Invasion', 'Invasion', 'Invasion', 'Invasion', 'Invasion', 'Invasion', 'Terminal', 'Terminal', 'Terminal', 'Terminal', 'Terminal', 'Terminal', 'Terminal', 'Terminal', 'Highrise', 'Highrise', 'Highrise', 'Highrise', 'Highrise', 'Highrise', 'Highrise', 'Highrise', 'Sub Base', 'Sub Base', 'Sub Base', 'Sub Base', 'Sub Base', 'Sub Base', 'Sub Base', 'Sub Base'], 'kills': ['17', '17', '17', '22', '25', '16', '17', '22', '4', '8', '9', '11', '8', '7', '6', '7', '17', '20', '27', '27', '28', '33', '17', '31', '18', '14', '22', '17', '23', '28', '15', '20', '24', '19', '21', '19', '24', '22', '23', '25', '11', '4', '5', '6', '4', '3', '3', '3', '17', '23', '22', '18', '26', '29', '15', '17', '13', '8', '17', '15', '18', '17', '14', '20'], 'deaths': ['18', '15', '25', '22', '17', '21', '16', '19', '7', '6', '8', '7', '8', '8', '7', '9', '26', '24', '30', '29', '24', '25', '26', '17', '18', '17', '23', '28', '19', '19', '17', '16', '18', '25', '24', '27', '21', '21', '22', '19', '2', '4', '4', '3', '7', '6', '6', '7', '20', '19', '25', '23', '18', '19', '24', '20', '14', '16', '20', '19', '14', '13', '11', '15'], 'damage': ['3713', '4421', '3335', '3612', '4289', '3498', '3651', '3373', '2270', '2110', '1921', '2108', '2358', '1520', '1615', '1480', '4306', '4052', '5389', '6200', '4955', '5864', '4277', '6112', '3781', '2494', '4107', '3923', '4524', '4632', '3081', '3371', '4347', '4248', '4857', '3667', '3896', '5215', '4507', '4217', '2191', '1049', '867', '1043', '566', '788', '929', '806', '3262', '4416', '4321', '4006', '5149', '5141', '3292', '3684', '2602', '1393', '3750', '3914', '2832', '3525', '3617', '3367'], 'objMainStat': ['129', '24', '23', '3', '115', '45', '127', '24', '2', '0', '1', '4', '0', '0', '2', '2', '9', '1', '5', '1', '1', '4', '7', '4', '85', '61', '35', '28', '70', '75', '109', '37', '18', '95', '33', '47', '98', '62', '57', '44', '2', '1', '0', '1', '2', '0', '1', '0', '3', '0', '1', '4', '3', '4', '2', '6', '73', '3', '8', '22', '31', '94', '94', '40']}\n"
     ]
    }
   ],
   "source": [
    "dataDict = {'date': [], 'player': [], 'gameMode': [], 'map': [], 'kills': [], 'deaths': [], 'damage': [], 'objMainStat': []}\n",
    "objMainStatMap = {'Hardpoint': 'hillTime', 'SND': 'firstBloods', 'Control': 'ticks'}\n",
    "\n",
    "for lineIdx, line in enumerate(linesOfInterest):\n",
    "    currLine = line.strip('\\n')\n",
    "    currLineSplit = currLine.split(',')\n",
    "\n",
    "    dataDict['date'].append(currLineSplit[0])\n",
    "    dataDict['player'].append(currLineSplit[1])\n",
    "    dataDict['gameMode'].append(currLineSplit[2])\n",
    "    dataDict['map'].append(currLineSplit[3])\n",
    "    dataDict['kills'].append(currLineSplit[4])\n",
    "    dataDict['deaths'].append(currLineSplit[5])\n",
    "    dataDict['damage'].append(currLineSplit[6])\n",
    "    dataDict['objMainStat'].append(currLineSplit[7])\n",
    "\n",
    "print(dataDict)"
   ]
  },
  {
   "cell_type": "code",
   "execution_count": 45,
   "metadata": {},
   "outputs": [
    {
     "data": {
      "text/html": [
       "<div>\n",
       "<style scoped>\n",
       "    .dataframe tbody tr th:only-of-type {\n",
       "        vertical-align: middle;\n",
       "    }\n",
       "\n",
       "    .dataframe tbody tr th {\n",
       "        vertical-align: top;\n",
       "    }\n",
       "\n",
       "    .dataframe thead th {\n",
       "        text-align: right;\n",
       "    }\n",
       "</style>\n",
       "<table border=\"1\" class=\"dataframe\">\n",
       "  <thead>\n",
       "    <tr style=\"text-align: right;\">\n",
       "      <th></th>\n",
       "      <th>date</th>\n",
       "      <th>player</th>\n",
       "      <th>gameMode</th>\n",
       "      <th>map</th>\n",
       "      <th>kills</th>\n",
       "      <th>deaths</th>\n",
       "      <th>damage</th>\n",
       "      <th>objMainStat</th>\n",
       "    </tr>\n",
       "  </thead>\n",
       "  <tbody>\n",
       "    <tr>\n",
       "      <th>0</th>\n",
       "      <td>03/15/2024</td>\n",
       "      <td>Abuzah</td>\n",
       "      <td>Hardpoint</td>\n",
       "      <td>Karachi</td>\n",
       "      <td>17</td>\n",
       "      <td>18</td>\n",
       "      <td>3713</td>\n",
       "      <td>129</td>\n",
       "    </tr>\n",
       "    <tr>\n",
       "      <th>1</th>\n",
       "      <td>03/15/2024</td>\n",
       "      <td>Arcitys</td>\n",
       "      <td>Hardpoint</td>\n",
       "      <td>Karachi</td>\n",
       "      <td>17</td>\n",
       "      <td>15</td>\n",
       "      <td>4421</td>\n",
       "      <td>24</td>\n",
       "    </tr>\n",
       "    <tr>\n",
       "      <th>2</th>\n",
       "      <td>03/15/2024</td>\n",
       "      <td>Breszy</td>\n",
       "      <td>Hardpoint</td>\n",
       "      <td>Karachi</td>\n",
       "      <td>17</td>\n",
       "      <td>25</td>\n",
       "      <td>3335</td>\n",
       "      <td>23</td>\n",
       "    </tr>\n",
       "    <tr>\n",
       "      <th>3</th>\n",
       "      <td>03/15/2024</td>\n",
       "      <td>Huke</td>\n",
       "      <td>Hardpoint</td>\n",
       "      <td>Karachi</td>\n",
       "      <td>22</td>\n",
       "      <td>22</td>\n",
       "      <td>3612</td>\n",
       "      <td>3</td>\n",
       "    </tr>\n",
       "    <tr>\n",
       "      <th>4</th>\n",
       "      <td>03/15/2024</td>\n",
       "      <td>Attach</td>\n",
       "      <td>Hardpoint</td>\n",
       "      <td>Karachi</td>\n",
       "      <td>25</td>\n",
       "      <td>17</td>\n",
       "      <td>4289</td>\n",
       "      <td>115</td>\n",
       "    </tr>\n",
       "  </tbody>\n",
       "</table>\n",
       "</div>"
      ],
      "text/plain": [
       "         date   player   gameMode      map  kills  deaths  damage  objMainStat\n",
       "0  03/15/2024   Abuzah  Hardpoint  Karachi     17      18    3713          129\n",
       "1  03/15/2024  Arcitys  Hardpoint  Karachi     17      15    4421           24\n",
       "2  03/15/2024   Breszy  Hardpoint  Karachi     17      25    3335           23\n",
       "3  03/15/2024     Huke  Hardpoint  Karachi     22      22    3612            3\n",
       "4  03/15/2024   Attach  Hardpoint  Karachi     25      17    4289          115"
      ]
     },
     "execution_count": 45,
     "metadata": {},
     "output_type": "execute_result"
    }
   ],
   "source": [
    "dataDfTmp = pd.DataFrame(dataDict)\n",
    "dataDf = dataDfTmp.apply(pd.to_numeric, errors='coerce').fillna(dataDfTmp)\n",
    "\n",
    "dataDf.head()"
   ]
  },
  {
   "cell_type": "code",
   "execution_count": 17,
   "metadata": {},
   "outputs": [
    {
     "name": "stdout",
     "output_type": "stream",
     "text": [
      "['Abuzah' 'Arcitys' 'Breszy' 'Huke' 'Attach' 'Gio' 'Nero' 'Purj' 'Assault'\n",
      " 'Diamondcon' 'Estreal' 'Fame' 'Afro' 'Ghosty' 'Kremp' 'Nastie']\n",
      "['03/15/2024']\n",
      "['Karachi' 'Invasion' 'Rio' 'Terminal' 'Highrise' 'Sub Base']\n"
     ]
    }
   ],
   "source": [
    "allPlayers = dataDf['player'].unique()\n",
    "allDates = dataDf['date'].unique()\n",
    "allMaps = dataDf['map'].unique()\n",
    "\n",
    "print(allPlayers)\n",
    "print(allDates)\n",
    "print(allMaps)"
   ]
  },
  {
   "cell_type": "code",
   "execution_count": 56,
   "metadata": {},
   "outputs": [
    {
     "name": "stdout",
     "output_type": "stream",
     "text": [
      "            kills  deaths  damage  objMainStat\n",
      "player                                        \n",
      "Abuzah         56      69   14070          225\n",
      "Afro           72      60   12443          134\n",
      "Arcitys        59      62   13077           86\n",
      "Assault        65      54   12402           96\n",
      "Attach         84      68   16126          186\n",
      "Breszy         75      86   14752           64\n",
      "Diamondcon     54      64   11106           99\n",
      "Estreal        65      73   13795           42\n",
      "Fame           58      72   12630           74\n",
      "Ghosty         71      59   14669          160\n",
      "Gio            84      73   15514          124\n",
      "Huke           77      86   15843           36\n",
      "Kremp          55      63   12345          154\n",
      "Nastie         65      61   12074           90\n",
      "Nero           55      66   12624          245\n",
      "Purj           80      61   14336           67\n"
     ]
    }
   ],
   "source": [
    "playerGrouped = dataDf.groupby('player')\n",
    "playerTotals = playerGrouped.sum()\n",
    "print(playerTotals)"
   ]
  },
  {
   "cell_type": "code",
   "execution_count": 58,
   "metadata": {},
   "outputs": [
    {
     "name": "stdout",
     "output_type": "stream",
     "text": [
      "                      kills  deaths  damage  objMainStat\n",
      "player     gameMode                                     \n",
      "Abuzah     Control       17      26    4306            9\n",
      "           Hardpoint     35      36    7494          214\n",
      "           SND            4       7    2270            2\n",
      "Afro       Control       26      18    5149            3\n",
      "           Hardpoint     42      35    6728          129\n",
      "           SND            4       7     566            2\n",
      "Arcitys    Control       20      24    4052            1\n",
      "           Hardpoint     31      32    6915           85\n",
      "           SND            8       6    2110            0\n",
      "Assault    Control       17      20    3262            3\n",
      "           Hardpoint     37      32    6949           91\n",
      "           SND           11       2    2191            2\n",
      "Attach     Control       28      24    4955            1\n",
      "           Hardpoint     48      36    8813          185\n",
      "           SND            8       8    2358            0\n",
      "Breszy     Control       27      30    5389            5\n",
      "           Hardpoint     39      48    7442           58\n",
      "           SND            9       8    1921            1\n",
      "Diamondcon Control       23      19    4416            0\n",
      "           Hardpoint     27      41    5641           98\n",
      "           SND            4       4    1049            1\n",
      "Estreal    Control       22      25    4321            1\n",
      "           Hardpoint     38      44    8607           41\n",
      "           SND            5       4     867            0\n",
      "Fame       Control       18      23    4006            4\n",
      "           Hardpoint     34      46    7581           69\n",
      "           SND            6       3    1043            1\n",
      "Ghosty     Control       29      19    5141            4\n",
      "           Hardpoint     39      34    8740          156\n",
      "           SND            3       6     788            0\n",
      "Gio        Control       33      25    5864            4\n",
      "           Hardpoint     44      40    8130          120\n",
      "           SND            7       8    1520            0\n",
      "Huke       Control       27      29    6200            1\n",
      "           Hardpoint     39      50    7535           31\n",
      "           SND           11       7    2108            4\n",
      "Kremp      Control       15      24    3292            2\n",
      "           Hardpoint     37      33    8124          151\n",
      "           SND            3       6     929            1\n",
      "Nastie     Control       17      20    3684            6\n",
      "           Hardpoint     45      34    7584           84\n",
      "           SND            3       7     806            0\n",
      "Nero       Control       17      26    4277            7\n",
      "           Hardpoint     32      33    6732          236\n",
      "           SND            6       7    1615            2\n",
      "Purj       Control       31      17    6112            4\n",
      "           Hardpoint     42      35    6744           61\n",
      "           SND            7       9    1480            2\n"
     ]
    }
   ],
   "source": [
    "playerGamemodeGrouped = dataDf.groupby(['player', 'gameMode'])\n",
    "playerGamemodeTotals = playerGamemodeGrouped.sum()\n",
    "print(playerGamemodeTotals)"
   ]
  },
  {
   "cell_type": "code",
   "execution_count": 60,
   "metadata": {},
   "outputs": [
    {
     "name": "stdout",
     "output_type": "stream",
     "text": [
      "                     kills  deaths  damage  objMainStat\n",
      "player     map                                         \n",
      "Abuzah     Invasion     21      33    6576           11\n",
      "           Karachi      17      18    3713          129\n",
      "           Rio          18      18    3781           85\n",
      "Afro       Highrise     26      18    5149            3\n",
      "           Invasion     24      21    3896           98\n",
      "           Sub Base     18      14    2832           31\n",
      "           Terminal      4       7     566            2\n",
      "Arcitys    Invasion     28      30    6162            1\n",
      "           Karachi      17      15    4421           24\n",
      "           Rio          14      17    2494           61\n",
      "Assault    Highrise     17      20    3262            3\n",
      "           Invasion     24      18    4347           18\n",
      "           Sub Base     13      14    2602           73\n",
      "           Terminal     11       2    2191            2\n",
      "Attach     Invasion     36      32    7313            1\n",
      "           Karachi      25      17    4289          115\n",
      "           Rio          23      19    4524           70\n",
      "Breszy     Invasion     36      38    7310            6\n",
      "           Karachi      17      25    3335           23\n",
      "           Rio          22      23    4107           35\n",
      "Diamondcon Highrise     23      19    4416            0\n",
      "           Invasion     19      25    4248           95\n",
      "           Sub Base      8      16    1393            3\n",
      "           Terminal      4       4    1049            1\n",
      "Estreal    Highrise     22      25    4321            1\n",
      "           Invasion     21      24    4857           33\n",
      "           Sub Base     17      20    3750            8\n",
      "           Terminal      5       4     867            0\n",
      "Fame       Highrise     18      23    4006            4\n",
      "           Invasion     19      27    3667           47\n",
      "           Sub Base     15      19    3914           22\n",
      "           Terminal      6       3    1043            1\n",
      "Ghosty     Highrise     29      19    5141            4\n",
      "           Invasion     22      21    5215           62\n",
      "           Sub Base     17      13    3525           94\n",
      "           Terminal      3       6     788            0\n",
      "Gio        Invasion     40      33    7384            4\n",
      "           Karachi      16      21    3498           45\n",
      "           Rio          28      19    4632           75\n",
      "Huke       Invasion     38      36    8308            5\n",
      "           Karachi      22      22    3612            3\n",
      "           Rio          17      28    3923           28\n",
      "Kremp      Highrise     15      24    3292            2\n",
      "           Invasion     23      22    4507           57\n",
      "           Sub Base     14      11    3617           94\n",
      "           Terminal      3       6     929            1\n",
      "Nastie     Highrise     17      20    3684            6\n",
      "           Invasion     25      19    4217           44\n",
      "           Sub Base     20      15    3367           40\n",
      "           Terminal      3       7     806            0\n",
      "Nero       Invasion     23      33    5892            9\n",
      "           Karachi      17      16    3651          127\n",
      "           Rio          15      17    3081          109\n",
      "Purj       Invasion     38      26    7592            6\n",
      "           Karachi      22      19    3373           24\n",
      "           Rio          20      16    3371           37\n"
     ]
    }
   ],
   "source": [
    "playerMapGrouped = dataDf.groupby(['player', 'map'])\n",
    "playerMapTotals = playerMapGrouped.sum()\n",
    "print(playerMapTotals)"
   ]
  },
  {
   "cell_type": "code",
   "execution_count": 63,
   "metadata": {},
   "outputs": [
    {
     "name": "stdout",
     "output_type": "stream",
     "text": [
      "                           kills  deaths  damage  objMainStat\n",
      "player map      gameMode                                     \n",
      "Abuzah Invasion Control       17      26    4306            9\n",
      "                SND            4       7    2270            2\n",
      "       Karachi  Hardpoint     17      18    3713          129\n",
      "       Rio      Hardpoint     18      18    3781           85\n",
      "Afro   Highrise Control       26      18    5149            3\n",
      "...                          ...     ...     ...          ...\n",
      "Nero   Rio      Hardpoint     15      17    3081          109\n",
      "Purj   Invasion Control       31      17    6112            4\n",
      "                SND            7       9    1480            2\n",
      "       Karachi  Hardpoint     22      19    3373           24\n",
      "       Rio      Hardpoint     20      16    3371           37\n",
      "\n",
      "[64 rows x 4 columns]\n"
     ]
    }
   ],
   "source": [
    "playerMapGamemodeGrouped = dataDf.groupby(['player', 'map', 'gameMode'])\n",
    "playerMapGamemodeTotals = playerMapGamemodeGrouped.sum()\n",
    "print(playerMapGamemodeTotals)"
   ]
  },
  {
   "cell_type": "code",
   "execution_count": 66,
   "metadata": {},
   "outputs": [],
   "source": [
    "outputDir = os.path.join('../', 'outputFiles')\n",
    "\n",
    "playerTotalOutputFile = 'playerTotals.csv'\n",
    "playerGamemodeOutputFile = 'playerGamemodeTotals.csv'\n",
    "playerMapOutputFile = 'playerMapTotals.csv'\n",
    "playerMapGamemodeFile = 'playerMapGamemodeTotals.csv'\n",
    "\n",
    "playerTotals.to_csv(os.path.join(outputDir, playerTotalOutputFile))\n",
    "playerGamemodeTotals.to_csv(os.path.join(outputDir, playerGamemodeOutputFile))\n",
    "playerMapTotals.to_csv(os.path.join(outputDir, playerMapOutputFile))\n",
    "playerMapGamemodeTotals.to_csv(os.path.join(outputDir, playerMapGamemodeFile))"
   ]
  }
 ],
 "metadata": {
  "kernelspec": {
   "display_name": "Python 3",
   "language": "python",
   "name": "python3"
  },
  "language_info": {
   "codemirror_mode": {
    "name": "ipython",
    "version": 3
   },
   "file_extension": ".py",
   "mimetype": "text/x-python",
   "name": "python",
   "nbconvert_exporter": "python",
   "pygments_lexer": "ipython3",
   "version": "3.9.7"
  }
 },
 "nbformat": 4,
 "nbformat_minor": 2
}
